{
 "cells": [
  {
   "cell_type": "markdown",
   "metadata": {},
   "source": [
    "**Objective**: Given a review, determine whether the review is positive or negative. For a review to be termed positive a rating of 4-5 was considered, whereas for a review to be termed negative a rating of 1-2 was considered."
   ]
  },
  {
   "cell_type": "markdown",
   "metadata": {},
   "source": [
    "# Table of Contents\n",
    "1. [Pre-processing](#pre) <br>\n",
    "   1.1. [Text pre-processing](#txtpre) <br>\n",
    "2. [Splitting of data](#split) <br>\n",
    "3. [Creating data matrix](#feat) <br>\n",
    "   3.1. [Bag of Words Encoding](#bow) <br>\n",
    "   3.2. [TFIDF Encoding](#tfidf) <br> \n",
    "4. [Applying Multinomial Naive Bayes)](#mulnb) <br>\n",
    "   4.1. [Set-1 Review text, preprocessed one converted into vectors using (BOW)](#set1) <br>\n",
    "   4.2. [Set-2 Review text, preprocessed one converted into vectors using (TFIDF)](#set2) <br>\n",
    "6. [Conclusion using PrettyTable Library](#conc) <br>"
   ]
  },
  {
   "cell_type": "code",
   "execution_count": 1,
   "metadata": {},
   "outputs": [],
   "source": [
    "#For Warnings\n",
    "import warnings\n",
    "warnings.filterwarnings('ignore')\n",
    "\n",
    "#Usual ML Libraries\n",
    "import numpy as np\n",
    "import pandas as pd\n",
    "import matplotlib.pyplot as plt\n",
    "import seaborn as sns\n",
    "\n",
    "#for sqlite database\n",
    "import sqlite3"
   ]
  },
  {
   "cell_type": "code",
   "execution_count": 2,
   "metadata": {},
   "outputs": [],
   "source": [
    "#Establishing a connection to read SQlite data.\n",
    "con = sqlite3.connect('database.sqlite')"
   ]
  },
  {
   "cell_type": "markdown",
   "metadata": {},
   "source": [
    "# 1. Pre-processing\n",
    "<a id='pre'></a>"
   ]
  },
  {
   "cell_type": "code",
   "execution_count": 3,
   "metadata": {},
   "outputs": [],
   "source": [
    "#For filtering we will take only Positive and Negative data.\n",
    "#That is, we wont consider data where product ratings/score = 3.\n",
    "\n",
    "filtered_data = pd.read_sql_query(\"\"\"SELECT * FROM Reviews WHERE Score != 3\"\"\", con)"
   ]
  },
  {
   "cell_type": "code",
   "execution_count": 4,
   "metadata": {},
   "outputs": [],
   "source": [
    "#Giving scores with >3 a positive rating(0) and scores with <3 a negative rating(1)\n",
    "\n",
    "def partition(x):\n",
    "    if x < 3:\n",
    "        return 0\n",
    "    return 1"
   ]
  },
  {
   "cell_type": "code",
   "execution_count": 5,
   "metadata": {},
   "outputs": [
    {
     "name": "stdout",
     "output_type": "stream",
     "text": [
      "Number of data points in our data (525814, 10)\n"
     ]
    },
    {
     "data": {
      "text/html": [
       "<div>\n",
       "<style scoped>\n",
       "    .dataframe tbody tr th:only-of-type {\n",
       "        vertical-align: middle;\n",
       "    }\n",
       "\n",
       "    .dataframe tbody tr th {\n",
       "        vertical-align: top;\n",
       "    }\n",
       "\n",
       "    .dataframe thead th {\n",
       "        text-align: right;\n",
       "    }\n",
       "</style>\n",
       "<table border=\"1\" class=\"dataframe\">\n",
       "  <thead>\n",
       "    <tr style=\"text-align: right;\">\n",
       "      <th></th>\n",
       "      <th>Id</th>\n",
       "      <th>ProductId</th>\n",
       "      <th>UserId</th>\n",
       "      <th>ProfileName</th>\n",
       "      <th>HelpfulnessNumerator</th>\n",
       "      <th>HelpfulnessDenominator</th>\n",
       "      <th>Score</th>\n",
       "      <th>Time</th>\n",
       "      <th>Summary</th>\n",
       "      <th>Text</th>\n",
       "    </tr>\n",
       "  </thead>\n",
       "  <tbody>\n",
       "    <tr>\n",
       "      <th>0</th>\n",
       "      <td>1</td>\n",
       "      <td>B001E4KFG0</td>\n",
       "      <td>A3SGXH7AUHU8GW</td>\n",
       "      <td>delmartian</td>\n",
       "      <td>1</td>\n",
       "      <td>1</td>\n",
       "      <td>1</td>\n",
       "      <td>1303862400</td>\n",
       "      <td>Good Quality Dog Food</td>\n",
       "      <td>I have bought several of the Vitality canned d...</td>\n",
       "    </tr>\n",
       "    <tr>\n",
       "      <th>1</th>\n",
       "      <td>2</td>\n",
       "      <td>B00813GRG4</td>\n",
       "      <td>A1D87F6ZCVE5NK</td>\n",
       "      <td>dll pa</td>\n",
       "      <td>0</td>\n",
       "      <td>0</td>\n",
       "      <td>0</td>\n",
       "      <td>1346976000</td>\n",
       "      <td>Not as Advertised</td>\n",
       "      <td>Product arrived labeled as Jumbo Salted Peanut...</td>\n",
       "    </tr>\n",
       "    <tr>\n",
       "      <th>2</th>\n",
       "      <td>3</td>\n",
       "      <td>B000LQOCH0</td>\n",
       "      <td>ABXLMWJIXXAIN</td>\n",
       "      <td>Natalia Corres \"Natalia Corres\"</td>\n",
       "      <td>1</td>\n",
       "      <td>1</td>\n",
       "      <td>1</td>\n",
       "      <td>1219017600</td>\n",
       "      <td>\"Delight\" says it all</td>\n",
       "      <td>This is a confection that has been around a fe...</td>\n",
       "    </tr>\n",
       "  </tbody>\n",
       "</table>\n",
       "</div>"
      ],
      "text/plain": [
       "   Id   ProductId          UserId                      ProfileName  \\\n",
       "0   1  B001E4KFG0  A3SGXH7AUHU8GW                       delmartian   \n",
       "1   2  B00813GRG4  A1D87F6ZCVE5NK                           dll pa   \n",
       "2   3  B000LQOCH0   ABXLMWJIXXAIN  Natalia Corres \"Natalia Corres\"   \n",
       "\n",
       "   HelpfulnessNumerator  HelpfulnessDenominator  Score        Time  \\\n",
       "0                     1                       1      1  1303862400   \n",
       "1                     0                       0      0  1346976000   \n",
       "2                     1                       1      1  1219017600   \n",
       "\n",
       "                 Summary                                               Text  \n",
       "0  Good Quality Dog Food  I have bought several of the Vitality canned d...  \n",
       "1      Not as Advertised  Product arrived labeled as Jumbo Salted Peanut...  \n",
       "2  \"Delight\" says it all  This is a confection that has been around a fe...  "
      ]
     },
     "execution_count": 5,
     "metadata": {},
     "output_type": "execute_result"
    }
   ],
   "source": [
    "#Loadingt the whole column Score into acutalScore which contains ratings\n",
    "actualScore = filtered_data['Score']\n",
    "\n",
    "#Using map() function, we apply the user-defined method partition() on actualScore variable and store in positiveNegative\n",
    "positiveNegative = actualScore.map(partition) \n",
    "\n",
    "#Changing the column to positive and negative\n",
    "filtered_data['Score'] = positiveNegative\n",
    "\n",
    "print(\"Number of data points in our data\", filtered_data.shape)\n",
    "filtered_data.head(3)"
   ]
  },
  {
   "cell_type": "code",
   "execution_count": 6,
   "metadata": {},
   "outputs": [
    {
     "data": {
      "text/html": [
       "<div>\n",
       "<style scoped>\n",
       "    .dataframe tbody tr th:only-of-type {\n",
       "        vertical-align: middle;\n",
       "    }\n",
       "\n",
       "    .dataframe tbody tr th {\n",
       "        vertical-align: top;\n",
       "    }\n",
       "\n",
       "    .dataframe thead th {\n",
       "        text-align: right;\n",
       "    }\n",
       "</style>\n",
       "<table border=\"1\" class=\"dataframe\">\n",
       "  <thead>\n",
       "    <tr style=\"text-align: right;\">\n",
       "      <th></th>\n",
       "      <th>Id</th>\n",
       "      <th>ProductId</th>\n",
       "      <th>UserId</th>\n",
       "      <th>ProfileName</th>\n",
       "      <th>HelpfulnessNumerator</th>\n",
       "      <th>HelpfulnessDenominator</th>\n",
       "      <th>Score</th>\n",
       "      <th>Time</th>\n",
       "      <th>Summary</th>\n",
       "      <th>Text</th>\n",
       "    </tr>\n",
       "  </thead>\n",
       "  <tbody>\n",
       "    <tr>\n",
       "      <th>0</th>\n",
       "      <td>78445</td>\n",
       "      <td>B000HDL1RQ</td>\n",
       "      <td>AR5J8UI46CURR</td>\n",
       "      <td>Geetha Krishnan</td>\n",
       "      <td>2</td>\n",
       "      <td>2</td>\n",
       "      <td>5</td>\n",
       "      <td>1199577600</td>\n",
       "      <td>LOACKER QUADRATINI VANILLA WAFERS</td>\n",
       "      <td>DELICIOUS WAFERS. I FIND THAT EUROPEAN WAFERS ...</td>\n",
       "    </tr>\n",
       "    <tr>\n",
       "      <th>1</th>\n",
       "      <td>138317</td>\n",
       "      <td>B000HDOPYC</td>\n",
       "      <td>AR5J8UI46CURR</td>\n",
       "      <td>Geetha Krishnan</td>\n",
       "      <td>2</td>\n",
       "      <td>2</td>\n",
       "      <td>5</td>\n",
       "      <td>1199577600</td>\n",
       "      <td>LOACKER QUADRATINI VANILLA WAFERS</td>\n",
       "      <td>DELICIOUS WAFERS. I FIND THAT EUROPEAN WAFERS ...</td>\n",
       "    </tr>\n",
       "    <tr>\n",
       "      <th>2</th>\n",
       "      <td>138277</td>\n",
       "      <td>B000HDOPYM</td>\n",
       "      <td>AR5J8UI46CURR</td>\n",
       "      <td>Geetha Krishnan</td>\n",
       "      <td>2</td>\n",
       "      <td>2</td>\n",
       "      <td>5</td>\n",
       "      <td>1199577600</td>\n",
       "      <td>LOACKER QUADRATINI VANILLA WAFERS</td>\n",
       "      <td>DELICIOUS WAFERS. I FIND THAT EUROPEAN WAFERS ...</td>\n",
       "    </tr>\n",
       "    <tr>\n",
       "      <th>3</th>\n",
       "      <td>73791</td>\n",
       "      <td>B000HDOPZG</td>\n",
       "      <td>AR5J8UI46CURR</td>\n",
       "      <td>Geetha Krishnan</td>\n",
       "      <td>2</td>\n",
       "      <td>2</td>\n",
       "      <td>5</td>\n",
       "      <td>1199577600</td>\n",
       "      <td>LOACKER QUADRATINI VANILLA WAFERS</td>\n",
       "      <td>DELICIOUS WAFERS. I FIND THAT EUROPEAN WAFERS ...</td>\n",
       "    </tr>\n",
       "    <tr>\n",
       "      <th>4</th>\n",
       "      <td>155049</td>\n",
       "      <td>B000PAQ75C</td>\n",
       "      <td>AR5J8UI46CURR</td>\n",
       "      <td>Geetha Krishnan</td>\n",
       "      <td>2</td>\n",
       "      <td>2</td>\n",
       "      <td>5</td>\n",
       "      <td>1199577600</td>\n",
       "      <td>LOACKER QUADRATINI VANILLA WAFERS</td>\n",
       "      <td>DELICIOUS WAFERS. I FIND THAT EUROPEAN WAFERS ...</td>\n",
       "    </tr>\n",
       "  </tbody>\n",
       "</table>\n",
       "</div>"
      ],
      "text/plain": [
       "       Id   ProductId         UserId      ProfileName  HelpfulnessNumerator  \\\n",
       "0   78445  B000HDL1RQ  AR5J8UI46CURR  Geetha Krishnan                     2   \n",
       "1  138317  B000HDOPYC  AR5J8UI46CURR  Geetha Krishnan                     2   \n",
       "2  138277  B000HDOPYM  AR5J8UI46CURR  Geetha Krishnan                     2   \n",
       "3   73791  B000HDOPZG  AR5J8UI46CURR  Geetha Krishnan                     2   \n",
       "4  155049  B000PAQ75C  AR5J8UI46CURR  Geetha Krishnan                     2   \n",
       "\n",
       "   HelpfulnessDenominator  Score        Time  \\\n",
       "0                       2      5  1199577600   \n",
       "1                       2      5  1199577600   \n",
       "2                       2      5  1199577600   \n",
       "3                       2      5  1199577600   \n",
       "4                       2      5  1199577600   \n",
       "\n",
       "                             Summary  \\\n",
       "0  LOACKER QUADRATINI VANILLA WAFERS   \n",
       "1  LOACKER QUADRATINI VANILLA WAFERS   \n",
       "2  LOACKER QUADRATINI VANILLA WAFERS   \n",
       "3  LOACKER QUADRATINI VANILLA WAFERS   \n",
       "4  LOACKER QUADRATINI VANILLA WAFERS   \n",
       "\n",
       "                                                Text  \n",
       "0  DELICIOUS WAFERS. I FIND THAT EUROPEAN WAFERS ...  \n",
       "1  DELICIOUS WAFERS. I FIND THAT EUROPEAN WAFERS ...  \n",
       "2  DELICIOUS WAFERS. I FIND THAT EUROPEAN WAFERS ...  \n",
       "3  DELICIOUS WAFERS. I FIND THAT EUROPEAN WAFERS ...  \n",
       "4  DELICIOUS WAFERS. I FIND THAT EUROPEAN WAFERS ...  "
      ]
     },
     "execution_count": 6,
     "metadata": {},
     "output_type": "execute_result"
    }
   ],
   "source": [
    "pd.read_sql_query(\n",
    "    \"\"\"SELECT * \n",
    "    FROM Reviews WHERE Score != 3 and UserId=\"AR5J8UI46CURR\"\n",
    "    ORDER BY ProductID\n",
    "    \"\"\", con)"
   ]
  },
  {
   "cell_type": "markdown",
   "metadata": {},
   "source": [
    "**Analysis:** We can see that the same userid has 5 reviews at exactly the same timestamp for same product. Hence we will need to drop the duplicate values."
   ]
  },
  {
   "cell_type": "code",
   "execution_count": 7,
   "metadata": {},
   "outputs": [],
   "source": [
    "#Sorting data according to ProductId in ascending order.\n",
    "\n",
    "sorted_data=filtered_data.sort_values('ProductId', axis=0, ascending=True, inplace=False)"
   ]
  },
  {
   "cell_type": "code",
   "execution_count": 8,
   "metadata": {},
   "outputs": [
    {
     "data": {
      "text/plain": [
       "(364173, 10)"
      ]
     },
     "execution_count": 8,
     "metadata": {},
     "output_type": "execute_result"
    }
   ],
   "source": [
    "#Dropping the duplicates and keeping only the first occurence in the final DataFrame\n",
    "\n",
    "final = sorted_data.drop_duplicates(subset={\"UserId\",\"ProfileName\",\"Time\",\"Text\"}, keep='first', inplace=False)\n",
    "final.shape"
   ]
  },
  {
   "cell_type": "code",
   "execution_count": 9,
   "metadata": {},
   "outputs": [
    {
     "data": {
      "text/plain": [
       "69.25890143662969"
      ]
     },
     "execution_count": 9,
     "metadata": {},
     "output_type": "execute_result"
    }
   ],
   "source": [
    "#This shows we have only 92.14% of the remianing data.\n",
    "(final.shape[0]/filtered_data.shape[0])*100"
   ]
  },
  {
   "cell_type": "code",
   "execution_count": 10,
   "metadata": {},
   "outputs": [
    {
     "data": {
      "text/plain": [
       "69.25890143662969"
      ]
     },
     "execution_count": 10,
     "metadata": {},
     "output_type": "execute_result"
    }
   ],
   "source": [
    "#Calculating the total values remaining after dropping the duplicates -> 99.72\n",
    "\n",
    "#Formula:\n",
    "#Id of final DataFrame (Containing Dropped values) / filtered_data (Unmodified Values) * 100\n",
    "\n",
    "(final['Id'].size/filtered_data['Id'].size)*100"
   ]
  },
  {
   "cell_type": "code",
   "execution_count": 11,
   "metadata": {},
   "outputs": [
    {
     "data": {
      "text/plain": [
       "1    307063\n",
       "0     57110\n",
       "Name: Score, dtype: int64"
      ]
     },
     "execution_count": 11,
     "metadata": {},
     "output_type": "execute_result"
    }
   ],
   "source": [
    "final['Score'].value_counts()"
   ]
  },
  {
   "cell_type": "code",
   "execution_count": 12,
   "metadata": {},
   "outputs": [
    {
     "name": "stdout",
     "output_type": "stream",
     "text": [
      "(364171, 10)\n"
     ]
    },
    {
     "data": {
      "text/html": [
       "<div>\n",
       "<style scoped>\n",
       "    .dataframe tbody tr th:only-of-type {\n",
       "        vertical-align: middle;\n",
       "    }\n",
       "\n",
       "    .dataframe tbody tr th {\n",
       "        vertical-align: top;\n",
       "    }\n",
       "\n",
       "    .dataframe thead th {\n",
       "        text-align: right;\n",
       "    }\n",
       "</style>\n",
       "<table border=\"1\" class=\"dataframe\">\n",
       "  <thead>\n",
       "    <tr style=\"text-align: right;\">\n",
       "      <th></th>\n",
       "      <th>Id</th>\n",
       "      <th>ProductId</th>\n",
       "      <th>UserId</th>\n",
       "      <th>ProfileName</th>\n",
       "      <th>HelpfulnessNumerator</th>\n",
       "      <th>HelpfulnessDenominator</th>\n",
       "      <th>Score</th>\n",
       "      <th>Time</th>\n",
       "      <th>Summary</th>\n",
       "      <th>Text</th>\n",
       "    </tr>\n",
       "  </thead>\n",
       "  <tbody>\n",
       "    <tr>\n",
       "      <th>138683</th>\n",
       "      <td>150501</td>\n",
       "      <td>0006641040</td>\n",
       "      <td>AJ46FKXOVC7NR</td>\n",
       "      <td>Nicholas A Mesiano</td>\n",
       "      <td>2</td>\n",
       "      <td>2</td>\n",
       "      <td>1</td>\n",
       "      <td>940809600</td>\n",
       "      <td>This whole series is great way to spend time w...</td>\n",
       "      <td>I can remember seeing the show when it aired o...</td>\n",
       "    </tr>\n",
       "    <tr>\n",
       "      <th>138676</th>\n",
       "      <td>150493</td>\n",
       "      <td>0006641040</td>\n",
       "      <td>AMX0PJKV4PPNJ</td>\n",
       "      <td>E. R. Bird \"Ramseelbird\"</td>\n",
       "      <td>71</td>\n",
       "      <td>72</td>\n",
       "      <td>1</td>\n",
       "      <td>1096416000</td>\n",
       "      <td>Read it once. Read it twice. Reading Chicken S...</td>\n",
       "      <td>These days, when a person says, \"chicken soup\"...</td>\n",
       "    </tr>\n",
       "    <tr>\n",
       "      <th>138682</th>\n",
       "      <td>150500</td>\n",
       "      <td>0006641040</td>\n",
       "      <td>A1IJKK6Q1GTEAY</td>\n",
       "      <td>A Customer</td>\n",
       "      <td>2</td>\n",
       "      <td>2</td>\n",
       "      <td>1</td>\n",
       "      <td>1009324800</td>\n",
       "      <td>It Was a favorite!</td>\n",
       "      <td>This was a favorite book of mine when I was a ...</td>\n",
       "    </tr>\n",
       "    <tr>\n",
       "      <th>138681</th>\n",
       "      <td>150499</td>\n",
       "      <td>0006641040</td>\n",
       "      <td>A3E7R866M94L0C</td>\n",
       "      <td>L. Barker \"simienwolf\"</td>\n",
       "      <td>2</td>\n",
       "      <td>2</td>\n",
       "      <td>1</td>\n",
       "      <td>1065830400</td>\n",
       "      <td>Can't explain why</td>\n",
       "      <td>This book has been a favorite of mine since I ...</td>\n",
       "    </tr>\n",
       "    <tr>\n",
       "      <th>476617</th>\n",
       "      <td>515426</td>\n",
       "      <td>141278509X</td>\n",
       "      <td>AB1A5EGHHVA9M</td>\n",
       "      <td>CHelmic</td>\n",
       "      <td>1</td>\n",
       "      <td>1</td>\n",
       "      <td>1</td>\n",
       "      <td>1332547200</td>\n",
       "      <td>The best drink mix</td>\n",
       "      <td>This product by Archer Farms is the best drink...</td>\n",
       "    </tr>\n",
       "    <tr>\n",
       "      <th>22621</th>\n",
       "      <td>24751</td>\n",
       "      <td>2734888454</td>\n",
       "      <td>A1C298ITT645B6</td>\n",
       "      <td>Hugh G. Pritchard</td>\n",
       "      <td>0</td>\n",
       "      <td>0</td>\n",
       "      <td>1</td>\n",
       "      <td>1195948800</td>\n",
       "      <td>Dog Lover Delites</td>\n",
       "      <td>Our dogs just love them.  I saw them in a pet ...</td>\n",
       "    </tr>\n",
       "    <tr>\n",
       "      <th>22620</th>\n",
       "      <td>24750</td>\n",
       "      <td>2734888454</td>\n",
       "      <td>A13ISQV0U9GZIC</td>\n",
       "      <td>Sandikaye</td>\n",
       "      <td>1</td>\n",
       "      <td>1</td>\n",
       "      <td>0</td>\n",
       "      <td>1192060800</td>\n",
       "      <td>made in china</td>\n",
       "      <td>My dogs loves this chicken but its a product f...</td>\n",
       "    </tr>\n",
       "    <tr>\n",
       "      <th>284375</th>\n",
       "      <td>308077</td>\n",
       "      <td>2841233731</td>\n",
       "      <td>A3QD68O22M2XHQ</td>\n",
       "      <td>LABRNTH</td>\n",
       "      <td>0</td>\n",
       "      <td>0</td>\n",
       "      <td>1</td>\n",
       "      <td>1345852800</td>\n",
       "      <td>Great recipe book for my babycook</td>\n",
       "      <td>This book is easy to read and the ingredients ...</td>\n",
       "    </tr>\n",
       "    <tr>\n",
       "      <th>157850</th>\n",
       "      <td>171161</td>\n",
       "      <td>7310172001</td>\n",
       "      <td>AFXMWPNS1BLU4</td>\n",
       "      <td>H. Sandler</td>\n",
       "      <td>0</td>\n",
       "      <td>0</td>\n",
       "      <td>1</td>\n",
       "      <td>1229385600</td>\n",
       "      <td>Excellent treats</td>\n",
       "      <td>I have been feeding my greyhounds these treats...</td>\n",
       "    </tr>\n",
       "    <tr>\n",
       "      <th>157849</th>\n",
       "      <td>171160</td>\n",
       "      <td>7310172001</td>\n",
       "      <td>A74C7IARQEM1R</td>\n",
       "      <td>stucker</td>\n",
       "      <td>0</td>\n",
       "      <td>0</td>\n",
       "      <td>1</td>\n",
       "      <td>1230076800</td>\n",
       "      <td>Sophie's Treats</td>\n",
       "      <td>This is one product that my welsh terrier can ...</td>\n",
       "    </tr>\n",
       "    <tr>\n",
       "      <th>157833</th>\n",
       "      <td>171144</td>\n",
       "      <td>7310172001</td>\n",
       "      <td>A1V5MY8V9AWUQB</td>\n",
       "      <td>Cheryl Sapper \"champagne girl\"</td>\n",
       "      <td>0</td>\n",
       "      <td>0</td>\n",
       "      <td>1</td>\n",
       "      <td>1244764800</td>\n",
       "      <td>THE BEST healthy dog treat!</td>\n",
       "      <td>This is the ONLY dog treat that my Lhasa Apso ...</td>\n",
       "    </tr>\n",
       "    <tr>\n",
       "      <th>157832</th>\n",
       "      <td>171143</td>\n",
       "      <td>7310172001</td>\n",
       "      <td>A2SWO60IW01VPX</td>\n",
       "      <td>Sam</td>\n",
       "      <td>0</td>\n",
       "      <td>0</td>\n",
       "      <td>1</td>\n",
       "      <td>1252022400</td>\n",
       "      <td>My Alaskan Malamute Loves Them!!</td>\n",
       "      <td>These liver treas are phenomenal. When i recei...</td>\n",
       "    </tr>\n",
       "    <tr>\n",
       "      <th>157837</th>\n",
       "      <td>171148</td>\n",
       "      <td>7310172001</td>\n",
       "      <td>A3TFTWTG2CC1GA</td>\n",
       "      <td>J. Umphress</td>\n",
       "      <td>0</td>\n",
       "      <td>0</td>\n",
       "      <td>1</td>\n",
       "      <td>1240272000</td>\n",
       "      <td>Best treat ever!</td>\n",
       "      <td>This was the only treat my dog liked during ob...</td>\n",
       "    </tr>\n",
       "    <tr>\n",
       "      <th>157831</th>\n",
       "      <td>171142</td>\n",
       "      <td>7310172001</td>\n",
       "      <td>A2ZO1AYFVQYG44</td>\n",
       "      <td>Cindy Rellie \"Rellie\"</td>\n",
       "      <td>0</td>\n",
       "      <td>0</td>\n",
       "      <td>1</td>\n",
       "      <td>1254960000</td>\n",
       "      <td>my 12 year old maltese has always loved these</td>\n",
       "      <td>No waste , even if she is having a  day when s...</td>\n",
       "    </tr>\n",
       "    <tr>\n",
       "      <th>157830</th>\n",
       "      <td>171141</td>\n",
       "      <td>7310172001</td>\n",
       "      <td>AZ40270J4JBZN</td>\n",
       "      <td>Zhinka Chunmee \"gamer from way back in the 70's\"</td>\n",
       "      <td>0</td>\n",
       "      <td>0</td>\n",
       "      <td>1</td>\n",
       "      <td>1264291200</td>\n",
       "      <td>Dogs, Cats, Ferrets all love this</td>\n",
       "      <td>I wanted a treat that was accepted and well li...</td>\n",
       "    </tr>\n",
       "    <tr>\n",
       "      <th>157829</th>\n",
       "      <td>171140</td>\n",
       "      <td>7310172001</td>\n",
       "      <td>ADXXVGRCGQQUO</td>\n",
       "      <td>Richard Pearlstein</td>\n",
       "      <td>0</td>\n",
       "      <td>0</td>\n",
       "      <td>1</td>\n",
       "      <td>1264377600</td>\n",
       "      <td>5 snouts!</td>\n",
       "      <td>My Westie loves these things!  She loves anyth...</td>\n",
       "    </tr>\n",
       "    <tr>\n",
       "      <th>157828</th>\n",
       "      <td>171139</td>\n",
       "      <td>7310172001</td>\n",
       "      <td>A13MS1JQG2ADOJ</td>\n",
       "      <td>C. Perrone</td>\n",
       "      <td>0</td>\n",
       "      <td>0</td>\n",
       "      <td>1</td>\n",
       "      <td>1265760000</td>\n",
       "      <td>Best dog treat ever</td>\n",
       "      <td>This is the only dog treat that my terrier wil...</td>\n",
       "    </tr>\n",
       "    <tr>\n",
       "      <th>157827</th>\n",
       "      <td>171138</td>\n",
       "      <td>7310172001</td>\n",
       "      <td>A13LAE0YTXA11B</td>\n",
       "      <td>Dita Vyslouzilova \"dita\"</td>\n",
       "      <td>0</td>\n",
       "      <td>0</td>\n",
       "      <td>1</td>\n",
       "      <td>1269216000</td>\n",
       "      <td>Great for puppy training</td>\n",
       "      <td>New puppy loves this, only treat he will pay a...</td>\n",
       "    </tr>\n",
       "    <tr>\n",
       "      <th>157848</th>\n",
       "      <td>171159</td>\n",
       "      <td>7310172001</td>\n",
       "      <td>A16GY2RCF410DT</td>\n",
       "      <td>LB</td>\n",
       "      <td>0</td>\n",
       "      <td>0</td>\n",
       "      <td>1</td>\n",
       "      <td>1231718400</td>\n",
       "      <td>Great!</td>\n",
       "      <td>My dog loves these treats!  We started using t...</td>\n",
       "    </tr>\n",
       "    <tr>\n",
       "      <th>157834</th>\n",
       "      <td>171145</td>\n",
       "      <td>7310172001</td>\n",
       "      <td>A1L8DNQYY69L2Z</td>\n",
       "      <td>R. Flores</td>\n",
       "      <td>0</td>\n",
       "      <td>0</td>\n",
       "      <td>1</td>\n",
       "      <td>1243728000</td>\n",
       "      <td>Terrific Treats</td>\n",
       "      <td>This is a great treat which all three of my do...</td>\n",
       "    </tr>\n",
       "  </tbody>\n",
       "</table>\n",
       "</div>"
      ],
      "text/plain": [
       "            Id   ProductId          UserId  \\\n",
       "138683  150501  0006641040   AJ46FKXOVC7NR   \n",
       "138676  150493  0006641040   AMX0PJKV4PPNJ   \n",
       "138682  150500  0006641040  A1IJKK6Q1GTEAY   \n",
       "138681  150499  0006641040  A3E7R866M94L0C   \n",
       "476617  515426  141278509X   AB1A5EGHHVA9M   \n",
       "22621    24751  2734888454  A1C298ITT645B6   \n",
       "22620    24750  2734888454  A13ISQV0U9GZIC   \n",
       "284375  308077  2841233731  A3QD68O22M2XHQ   \n",
       "157850  171161  7310172001   AFXMWPNS1BLU4   \n",
       "157849  171160  7310172001   A74C7IARQEM1R   \n",
       "157833  171144  7310172001  A1V5MY8V9AWUQB   \n",
       "157832  171143  7310172001  A2SWO60IW01VPX   \n",
       "157837  171148  7310172001  A3TFTWTG2CC1GA   \n",
       "157831  171142  7310172001  A2ZO1AYFVQYG44   \n",
       "157830  171141  7310172001   AZ40270J4JBZN   \n",
       "157829  171140  7310172001   ADXXVGRCGQQUO   \n",
       "157828  171139  7310172001  A13MS1JQG2ADOJ   \n",
       "157827  171138  7310172001  A13LAE0YTXA11B   \n",
       "157848  171159  7310172001  A16GY2RCF410DT   \n",
       "157834  171145  7310172001  A1L8DNQYY69L2Z   \n",
       "\n",
       "                                             ProfileName  \\\n",
       "138683                                Nicholas A Mesiano   \n",
       "138676                          E. R. Bird \"Ramseelbird\"   \n",
       "138682                                        A Customer   \n",
       "138681                            L. Barker \"simienwolf\"   \n",
       "476617                                           CHelmic   \n",
       "22621                                  Hugh G. Pritchard   \n",
       "22620                                          Sandikaye   \n",
       "284375                                           LABRNTH   \n",
       "157850                                        H. Sandler   \n",
       "157849                                           stucker   \n",
       "157833                    Cheryl Sapper \"champagne girl\"   \n",
       "157832                                               Sam   \n",
       "157837                                       J. Umphress   \n",
       "157831                             Cindy Rellie \"Rellie\"   \n",
       "157830  Zhinka Chunmee \"gamer from way back in the 70's\"   \n",
       "157829                                Richard Pearlstein   \n",
       "157828                                        C. Perrone   \n",
       "157827                          Dita Vyslouzilova \"dita\"   \n",
       "157848                                                LB   \n",
       "157834                                         R. Flores   \n",
       "\n",
       "        HelpfulnessNumerator  HelpfulnessDenominator  Score        Time  \\\n",
       "138683                     2                       2      1   940809600   \n",
       "138676                    71                      72      1  1096416000   \n",
       "138682                     2                       2      1  1009324800   \n",
       "138681                     2                       2      1  1065830400   \n",
       "476617                     1                       1      1  1332547200   \n",
       "22621                      0                       0      1  1195948800   \n",
       "22620                      1                       1      0  1192060800   \n",
       "284375                     0                       0      1  1345852800   \n",
       "157850                     0                       0      1  1229385600   \n",
       "157849                     0                       0      1  1230076800   \n",
       "157833                     0                       0      1  1244764800   \n",
       "157832                     0                       0      1  1252022400   \n",
       "157837                     0                       0      1  1240272000   \n",
       "157831                     0                       0      1  1254960000   \n",
       "157830                     0                       0      1  1264291200   \n",
       "157829                     0                       0      1  1264377600   \n",
       "157828                     0                       0      1  1265760000   \n",
       "157827                     0                       0      1  1269216000   \n",
       "157848                     0                       0      1  1231718400   \n",
       "157834                     0                       0      1  1243728000   \n",
       "\n",
       "                                                  Summary  \\\n",
       "138683  This whole series is great way to spend time w...   \n",
       "138676  Read it once. Read it twice. Reading Chicken S...   \n",
       "138682                                 It Was a favorite!   \n",
       "138681                                  Can't explain why   \n",
       "476617                                 The best drink mix   \n",
       "22621                                   Dog Lover Delites   \n",
       "22620                                       made in china   \n",
       "284375                  Great recipe book for my babycook   \n",
       "157850                                   Excellent treats   \n",
       "157849                                    Sophie's Treats   \n",
       "157833                        THE BEST healthy dog treat!   \n",
       "157832                   My Alaskan Malamute Loves Them!!   \n",
       "157837                                   Best treat ever!   \n",
       "157831      my 12 year old maltese has always loved these   \n",
       "157830                  Dogs, Cats, Ferrets all love this   \n",
       "157829                                          5 snouts!   \n",
       "157828                                Best dog treat ever   \n",
       "157827                           Great for puppy training   \n",
       "157848                                             Great!   \n",
       "157834                                    Terrific Treats   \n",
       "\n",
       "                                                     Text  \n",
       "138683  I can remember seeing the show when it aired o...  \n",
       "138676  These days, when a person says, \"chicken soup\"...  \n",
       "138682  This was a favorite book of mine when I was a ...  \n",
       "138681  This book has been a favorite of mine since I ...  \n",
       "476617  This product by Archer Farms is the best drink...  \n",
       "22621   Our dogs just love them.  I saw them in a pet ...  \n",
       "22620   My dogs loves this chicken but its a product f...  \n",
       "284375  This book is easy to read and the ingredients ...  \n",
       "157850  I have been feeding my greyhounds these treats...  \n",
       "157849  This is one product that my welsh terrier can ...  \n",
       "157833  This is the ONLY dog treat that my Lhasa Apso ...  \n",
       "157832  These liver treas are phenomenal. When i recei...  \n",
       "157837  This was the only treat my dog liked during ob...  \n",
       "157831  No waste , even if she is having a  day when s...  \n",
       "157830  I wanted a treat that was accepted and well li...  \n",
       "157829  My Westie loves these things!  She loves anyth...  \n",
       "157828  This is the only dog treat that my terrier wil...  \n",
       "157827  New puppy loves this, only treat he will pay a...  \n",
       "157848  My dog loves these treats!  We started using t...  \n",
       "157834  This is a great treat which all three of my do...  "
      ]
     },
     "execution_count": 12,
     "metadata": {},
     "output_type": "execute_result"
    }
   ],
   "source": [
    "# Removing rows where HelpfulnessNumerator is greater than HelpfulnessDenominator\n",
    "final = final[final.HelpfulnessNumerator <= final.HelpfulnessDenominator]\n",
    "print(final.shape)\n",
    "final[30:50]"
   ]
  },
  {
   "cell_type": "code",
   "execution_count": 13,
   "metadata": {},
   "outputs": [
    {
     "data": {
      "text/plain": [
       "(364136, 10)"
      ]
     },
     "execution_count": 13,
     "metadata": {},
     "output_type": "execute_result"
    }
   ],
   "source": [
    "final = final[final['ProductId'] != '2841233731']\n",
    "final = final[final['ProductId'] != '0006641040']\n",
    "final.shape"
   ]
  },
  {
   "cell_type": "markdown",
   "metadata": {},
   "source": [
    "## 1.1 Text Pre-processing: Stemming, Stop-words removal, Lemmatization\n",
    "<a id='txtpre'></a>"
   ]
  },
  {
   "cell_type": "code",
   "execution_count": 14,
   "metadata": {},
   "outputs": [],
   "source": [
    "import re #Library for regular expressions.\n",
    "\n",
    "import string\n",
    "\n",
    "#module for removing stopwords from the documents/reviews.\n",
    "from nltk.corpus import stopwords \n",
    "\n",
    "#module to perform the process of stemming.\n",
    "#Two kinds of stemming: 1. Porter stemming 2. Snowball stemming\n",
    "from nltk.stem import PorterStemmer\n",
    "\n",
    "#module for the process of lemmatization.\n",
    "from nltk.stem.wordnet import WordNetLemmatizer"
   ]
  },
  {
   "cell_type": "code",
   "execution_count": 15,
   "metadata": {},
   "outputs": [
    {
     "name": "stdout",
     "output_type": "stream",
     "text": [
      "This product by Archer Farms is the best drink mix ever. Just mix a flavored packet with your 16 oz. water bottle. Contains the all natural sweetner Stevia, real fruit flavoring and no food coloring. Just colored with fruit or vegetable colors. Pure and natural and tastes great. There are eight packets in a box and only contains 10 calories per packet. Thank you Archer Farms!\n",
      "==================================================\n",
      "Absolutely delicious on a simple grilled sausage; critical in certain recipes.  This product bears no resemblance to the overprocessed, over-colored, over-sugared GLOP that passes for mustard in this country; the mustard seeds are whole and fill your mouth with flavor. Subtly different from Dijon mustard, which is made with white wine, Moutarde Meaux is made with vinegar and the added tang is just sublime...  No pantry should be without it, and you will never, ever go back to the yellow stuff.\n",
      "==================================================\n",
      "I do not know any European ladies that do no use it. I buy it from European stores for less than here on Amazon. Vegeta without MSG is available as well, but I do not find it so flavorful. Remember that it contains salt, and adding additional salt to your cooking might not be necessary. I add Vegeta to taste 1st, and then any other spices and herbs I might feel like.<br />Try it on your grilling food of choice, too, by itself or with other spices/herbs.(Don't add more salt, though.)\n",
      "==================================================\n",
      "I love pad thai.  I bought this sauce hoping to recreate my favorite dish from a local thai restaurant.Conlusion? It just isnt the same.  Reading the ingredients, this is definetly not \"authenic\". Palm Sugar, Tamarind, Soy Sauce, Shallot, Pickled Radish, Garlic, Soybean Oil, Salt, Chili.<br /><br />Its too sweet for me.  I just dont really like it.  This sauce uses ALOT of tamarind, you can see the chunks in it. I'm pretty sure that my local Thai restaurant does not use tamarind, their sauce is not as dark brown. (Maybe thats the Americanized Pad Thai?)<br /><br />I found a Pad Thai sauce recipe online and I think I will use instead of this sauce.<br /><br />2 1/2 Tbs. brown sugar<br />1 Tbs. lime juice<br />2 1/2 Tbs. Thai Kitchen Premium Fish Sauce<br />1 Tbs. rice vinegar<br />1 tsp. paprika (optional)\n",
      "==================================================\n"
     ]
    }
   ],
   "source": [
    "#Printing the 1st review\n",
    "sent_0 = final['Text'].values[0]\n",
    "print(sent_0)\n",
    "print(\"=\"*50)\n",
    "\n",
    "#Printing the 1000th review\n",
    "sent_1000 = final['Text'].values[10000]\n",
    "print(sent_1000)\n",
    "print(\"=\"*50)\n",
    "\n",
    "#Printing the 1500th review\n",
    "sent_1500 = final['Text'].values[15000]\n",
    "print(sent_1500)\n",
    "print(\"=\"*50)\n",
    "\n",
    "#Printing the 4900th review\n",
    "sent_4900 = final['Text'].values[45000]\n",
    "print(sent_4900)\n",
    "print(\"=\"*50)"
   ]
  },
  {
   "cell_type": "markdown",
   "metadata": {},
   "source": [
    "**As you can see, we have html tags in the review. There are some URLs also.**"
   ]
  },
  {
   "cell_type": "code",
   "execution_count": 16,
   "metadata": {},
   "outputs": [
    {
     "name": "stdout",
     "output_type": "stream",
     "text": [
      "This product by Archer Farms is the best drink mix ever. Just mix a flavored packet with your 16 oz. water bottle. Contains the all natural sweetner Stevia, real fruit flavoring and no food coloring. Just colored with fruit or vegetable colors. Pure and natural and tastes great. There are eight packets in a box and only contains 10 calories per packet. Thank you Archer Farms!\n"
     ]
    }
   ],
   "source": [
    "sent_0 = re.sub(r\"http\\S+\", \"\", sent_0)\n",
    "sent_1000 = re.sub(r\"http\\S+\", \"\", sent_1000)\n",
    "sent_150 = re.sub(r\"http\\S+\", \"\", sent_1500)\n",
    "sent_4900 = re.sub(r\"http\\S+\", \"\", sent_4900)\n",
    "\n",
    "print(sent_0)"
   ]
  },
  {
   "cell_type": "code",
   "execution_count": 17,
   "metadata": {},
   "outputs": [
    {
     "name": "stdout",
     "output_type": "stream",
     "text": [
      "This product by Archer Farms is the best drink mix ever. Just mix a flavored packet with your 16 oz. water bottle. Contains the all natural sweetner Stevia, real fruit flavoring and no food coloring. Just colored with fruit or vegetable colors. Pure and natural and tastes great. There are eight packets in a box and only contains 10 calories per packet. Thank you Archer Farms!\n",
      "==================================================\n",
      "Absolutely delicious on a simple grilled sausage; critical in certain recipes.  This product bears no resemblance to the overprocessed, over-colored, over-sugared GLOP that passes for mustard in this country; the mustard seeds are whole and fill your mouth with flavor. Subtly different from Dijon mustard, which is made with white wine, Moutarde Meaux is made with vinegar and the added tang is just sublime...  No pantry should be without it, and you will never, ever go back to the yellow stuff.\n",
      "==================================================\n",
      "I do not know any European ladies that do no use it. I buy it from European stores for less than here on Amazon. Vegeta without MSG is available as well, but I do not find it so flavorful. Remember that it contains salt, and adding additional salt to your cooking might not be necessary. I add Vegeta to taste 1st, and then any other spices and herbs I might feel like.Try it on your grilling food of choice, too, by itself or with other spices/herbs.(Don't add more salt, though.)\n",
      "==================================================\n",
      "I love pad thai.  I bought this sauce hoping to recreate my favorite dish from a local thai restaurant.Conlusion? It just isnt the same.  Reading the ingredients, this is definetly not \"authenic\". Palm Sugar, Tamarind, Soy Sauce, Shallot, Pickled Radish, Garlic, Soybean Oil, Salt, Chili.Its too sweet for me.  I just dont really like it.  This sauce uses ALOT of tamarind, you can see the chunks in it. I'm pretty sure that my local Thai restaurant does not use tamarind, their sauce is not as dark brown. (Maybe thats the Americanized Pad Thai?)I found a Pad Thai sauce recipe online and I think I will use instead of this sauce.2 1/2 Tbs. brown sugar1 Tbs. lime juice2 1/2 Tbs. Thai Kitchen Premium Fish Sauce1 Tbs. rice vinegar1 tsp. paprika (optional)\n"
     ]
    }
   ],
   "source": [
    "#Using beautifulsoup for removing HTML tags\n",
    "\n",
    "from bs4 import BeautifulSoup\n",
    "\n",
    "soup = BeautifulSoup(sent_0, 'lxml')\n",
    "text = soup.get_text()\n",
    "print(text)\n",
    "print(\"=\"*50)\n",
    "\n",
    "soup = BeautifulSoup(sent_1000, 'lxml')\n",
    "text = soup.get_text()\n",
    "print(text)\n",
    "print(\"=\"*50)\n",
    "\n",
    "soup = BeautifulSoup(sent_1500, 'lxml')\n",
    "text = soup.get_text()\n",
    "print(text)\n",
    "print(\"=\"*50)\n",
    "\n",
    "soup = BeautifulSoup(sent_4900, 'lxml')\n",
    "text = soup.get_text()\n",
    "print(text)"
   ]
  },
  {
   "cell_type": "code",
   "execution_count": 18,
   "metadata": {},
   "outputs": [],
   "source": [
    "#Expanding english language contraction in NLP:\n",
    "#you've -> you have, 're -> are etc.\n",
    "\n",
    "def decontracted(phrase):\n",
    "    # specific\n",
    "    phrase = re.sub(r\"won't\", \"will not\", phrase)\n",
    "    phrase = re.sub(r\"can\\'t\", \"can not\", phrase)\n",
    "\n",
    "    # general\n",
    "    phrase = re.sub(r\"n\\'t\", \" not\", phrase)\n",
    "    phrase = re.sub(r\"\\'re\", \" are\", phrase)\n",
    "    phrase = re.sub(r\"\\'s\", \" is\", phrase)\n",
    "    phrase = re.sub(r\"\\'d\", \" would\", phrase)\n",
    "    phrase = re.sub(r\"\\'ll\", \" will\", phrase)\n",
    "    phrase = re.sub(r\"\\'t\", \" not\", phrase)\n",
    "    phrase = re.sub(r\"\\'ve\", \" have\", phrase)\n",
    "    phrase = re.sub(r\"\\'m\", \" am\", phrase)\n",
    "    return phrase"
   ]
  },
  {
   "cell_type": "code",
   "execution_count": 19,
   "metadata": {},
   "outputs": [
    {
     "name": "stdout",
     "output_type": "stream",
     "text": [
      "I do not know any European ladies that do no use it. I buy it from European stores for less than here on Amazon. Vegeta without MSG is available as well, but I do not find it so flavorful. Remember that it contains salt, and adding additional salt to your cooking might not be necessary. I add Vegeta to taste 1st, and then any other spices and herbs I might feel like.<br />Try it on your grilling food of choice, too, by itself or with other spices/herbs.(Do not add more salt, though.)\n"
     ]
    }
   ],
   "source": [
    "sent_1500 = decontracted(sent_1500)\n",
    "print(sent_1500)"
   ]
  },
  {
   "cell_type": "code",
   "execution_count": 20,
   "metadata": {},
   "outputs": [
    {
     "name": "stdout",
     "output_type": "stream",
     "text": [
      "This product by Archer Farms is the best drink mix ever. Just mix a flavored packet with your  oz. water bottle. Contains the all natural sweetner Stevia, real fruit flavoring and no food coloring. Just colored with fruit or vegetable colors. Pure and natural and tastes great. There are eight packets in a box and only contains  calories per packet. Thank you Archer Farms!\n"
     ]
    }
   ],
   "source": [
    "#remove words with numbers python: https://stackoverflow.com/a/18082370/4084039\n",
    "sent_0 = re.sub(\"\\S*\\d\\S*\", \"\", sent_0).strip()\n",
    "print(sent_0)"
   ]
  },
  {
   "cell_type": "code",
   "execution_count": 21,
   "metadata": {},
   "outputs": [
    {
     "name": "stdout",
     "output_type": "stream",
     "text": [
      "I do not know any European ladies that do no use it I buy it from European stores for less than here on Amazon Vegeta without MSG is available as well but I do not find it so flavorful Remember that it contains salt and adding additional salt to your cooking might not be necessary I add Vegeta to taste 1st and then any other spices and herbs I might feel like br Try it on your grilling food of choice too by itself or with other spices herbs Do not add more salt though \n"
     ]
    }
   ],
   "source": [
    "#remove special character: https://stackoverflow.com/a/5843547/4084039\n",
    "sent_1500 = re.sub('[^A-Za-z0-9]+', ' ', sent_1500)\n",
    "print(sent_1500)"
   ]
  },
  {
   "cell_type": "code",
   "execution_count": 22,
   "metadata": {},
   "outputs": [],
   "source": [
    "stopwords= set(['br', 'the', 'i', 'me', 'my', 'myself', 'we', 'our', 'ours', 'ourselves', 'you', \"you're\", \"you've\",\\\n",
    "            \"you'll\", \"you'd\", 'your', 'yours', 'yourself', 'yourselves', 'he', 'him', 'his', 'himself', \\\n",
    "            'she', \"she's\", 'her', 'hers', 'herself', 'it', \"it's\", 'its', 'itself', 'they', 'them', 'their',\\\n",
    "            'theirs', 'themselves', 'what', 'which', 'who', 'whom', 'this', 'that', \"that'll\", 'these', 'those', \\\n",
    "            'am', 'is', 'are', 'was', 'were', 'be', 'been', 'being', 'have', 'has', 'had', 'having', 'do', 'does', \\\n",
    "            'did', 'doing', 'a', 'an', 'the', 'and', 'but', 'if', 'or', 'because', 'as', 'until', 'while', 'of', \\\n",
    "            'at', 'by', 'for', 'with', 'about', 'against', 'between', 'into', 'through', 'during', 'before', 'after',\\\n",
    "            'above', 'below', 'to', 'from', 'up', 'down', 'in', 'out', 'on', 'off', 'over', 'under', 'again', 'further',\\\n",
    "            'then', 'once', 'here', 'there', 'when', 'where', 'why', 'how', 'all', 'any', 'both', 'each', 'few', 'more',\\\n",
    "            'most', 'other', 'some', 'such', 'only', 'own', 'same', 'so', 'than', 'too', 'very', \\\n",
    "            's', 't', 'can', 'will', 'just', 'don', \"don't\", 'should', \"should've\", 'now', 'd', 'll', 'm', 'o', 're', \\\n",
    "            've', 'y', 'ain', 'aren', \"aren't\", 'couldn', \"couldn't\", 'didn', \"didn't\", 'doesn', \"doesn't\", 'hadn',\\\n",
    "            \"hadn't\", 'hasn', \"hasn't\", 'haven', \"haven't\", 'isn', \"isn't\", 'ma', 'mightn', \"mightn't\", 'mustn',\\\n",
    "            \"mustn't\", 'needn', \"needn't\", 'shan', \"shan't\", 'shouldn', \"shouldn't\", 'wasn', \"wasn't\", 'weren', \"weren't\", \\\n",
    "            'won', \"won't\", 'wouldn', \"wouldn't\"])"
   ]
  },
  {
   "cell_type": "code",
   "execution_count": 23,
   "metadata": {},
   "outputs": [
    {
     "name": "stderr",
     "output_type": "stream",
     "text": [
      "100%|██████████| 364136/364136 [08:14<00:00, 735.72it/s] \n"
     ]
    }
   ],
   "source": [
    "# Combining all the above stundents \n",
    "from tqdm import tqdm\n",
    "preprocessed_reviews = []\n",
    "\n",
    "# tqdm is for printing the status bar\n",
    "for sentance in tqdm(final['Text'].values):\n",
    "    sentance = re.sub(r\"http\\S+\", \"\", sentance)\n",
    "    sentance = BeautifulSoup(sentance, 'lxml').get_text()\n",
    "    sentance = decontracted(sentance)\n",
    "    sentance = re.sub(\"\\S*\\d\\S*\", \"\", sentance).strip()\n",
    "    sentance = re.sub('[^A-Za-z]+', ' ', sentance)\n",
    "    # https://gist.github.com/sebleier/554280\n",
    "    sentance = ' '.join(e.lower() for e in sentance.split() if e.lower() not in stopwords)\n",
    "    preprocessed_reviews.append(sentance.strip())"
   ]
  },
  {
   "cell_type": "code",
   "execution_count": 24,
   "metadata": {},
   "outputs": [],
   "source": [
    "final['Text'] = preprocessed_reviews"
   ]
  },
  {
   "cell_type": "code",
   "execution_count": 25,
   "metadata": {},
   "outputs": [],
   "source": [
    "#Sorting data according to Time in ascending order for Time Based Splitting\n",
    "time_sorted_data = final.sort_values('Time', axis=0, ascending=True, inplace=False, kind='quicksort', na_position='last').reset_index(drop=True)\n",
    "X = time_sorted_data['Text']\n",
    "y = time_sorted_data['Score']"
   ]
  },
  {
   "cell_type": "markdown",
   "metadata": {},
   "source": [
    "# 2. Splitting the Data\n",
    "\n",
    "<a id='split'></a>"
   ]
  },
  {
   "cell_type": "code",
   "execution_count": 26,
   "metadata": {},
   "outputs": [],
   "source": [
    "# train test split before vectorizing or performing any feature engineering techniques\n",
    "#as doing it before will lead to data leakage.\n",
    "from sklearn.model_selection import train_test_split\n",
    "X_train, X_test, y_train, y_test = train_test_split(X, y, test_size=0.33, random_state=0, shuffle=False)\n",
    "X_train, X_cv, y_train, y_cv = train_test_split(X_train, y_train, test_size=0.33,  random_state=0, shuffle=False)"
   ]
  },
  {
   "cell_type": "markdown",
   "metadata": {},
   "source": [
    "# 3. Creating data matrix\n",
    "\n",
    "<a id='feat'></a>"
   ]
  },
  {
   "cell_type": "markdown",
   "metadata": {},
   "source": [
    "## 3.1. Bag of Words Encoding\n",
    "<a id='bow'></a>"
   ]
  },
  {
   "cell_type": "code",
   "execution_count": 27,
   "metadata": {},
   "outputs": [
    {
     "name": "stdout",
     "output_type": "stream",
     "text": [
      "(163460,) (163460,)\n",
      "(80511,) (80511,)\n",
      "(120165,) (120165,)\n",
      "====================================================================================================\n",
      "After vectorizations\n",
      "(163460, 15790) (163460,)\n",
      "(80511, 15790) (80511,)\n",
      "(120165, 15790) (120165,)\n"
     ]
    }
   ],
   "source": [
    "#BoW for preprocessed review.\n",
    "print(X_train.shape, y_train.shape)\n",
    "print(X_cv.shape, y_cv.shape)\n",
    "print(X_test.shape, y_test.shape)\n",
    "\n",
    "print(\"=\"*100)\n",
    "\n",
    "from sklearn.feature_extraction.text import CountVectorizer\n",
    "vectorizer = CountVectorizer(min_df=10)\n",
    "vectorizer.fit(X_train) # fit has to happen only on train data\n",
    "\n",
    "# we use the fitted CountVectorizer to convert the text to vector\n",
    "X_train_review_bow = vectorizer.transform(X_train)\n",
    "X_cv_review_bow = vectorizer.transform(X_cv)\n",
    "X_test_review_bow = vectorizer.transform(X_test)\n",
    "\n",
    "print(\"After vectorizations\")\n",
    "print(X_train_review_bow.shape, y_train.shape)\n",
    "print(X_cv_review_bow.shape, y_cv.shape)\n",
    "print(X_test_review_bow.shape, y_test.shape)"
   ]
  },
  {
   "cell_type": "markdown",
   "metadata": {},
   "source": [
    "## 3.2. TFIDF Encoding\n",
    "<a id='tfidf'></a>"
   ]
  },
  {
   "cell_type": "code",
   "execution_count": 28,
   "metadata": {},
   "outputs": [
    {
     "name": "stdout",
     "output_type": "stream",
     "text": [
      "After vectorizations\n",
      "(163460, 15790) (163460,)\n",
      "(80511, 15790) (80511,)\n",
      "(120165, 15790) (120165,)\n"
     ]
    }
   ],
   "source": [
    "#TF-IDF Encoding of reviews\n",
    "from sklearn.feature_extraction.text import TfidfVectorizer\n",
    "vectorizer_review_tfidf = TfidfVectorizer(min_df=10)\n",
    "vectorizer_review_tfidf.fit(X_train) # fit has to happen only on train data\n",
    "\n",
    "# we use the fitted CountVectorizer to convert the text to vector\n",
    "X_train_review_tfidf = vectorizer_review_tfidf.transform(X_train)\n",
    "X_cv_review_tfidf = vectorizer_review_tfidf.transform(X_cv)\n",
    "X_test_review_tfidf = vectorizer_review_tfidf.transform(X_test)\n",
    "\n",
    "print(\"After vectorizations\")\n",
    "print(X_train_review_tfidf.shape, y_train.shape)\n",
    "print(X_cv_review_tfidf.shape, y_cv.shape)\n",
    "print(X_test_review_tfidf.shape, y_test.shape)"
   ]
  },
  {
   "cell_type": "markdown",
   "metadata": {},
   "source": [
    "# 4. Applying Multinomial Naive Bayes\n",
    "\n",
    "<a id='mulnb'></a>"
   ]
  },
  {
   "cell_type": "markdown",
   "metadata": {},
   "source": [
    "## Set 1: Review text, preprocessed one converted into vectors using (BOW)\n",
    "<a id='set1'></a>"
   ]
  },
  {
   "cell_type": "code",
   "execution_count": 40,
   "metadata": {},
   "outputs": [
    {
     "data": {
      "image/png": "[encoded data removed]",
      "text/plain": [
       "<Figure size 432x288 with 1 Axes>"
      ]
     },
     "metadata": {},
     "output_type": "display_data"
    }
   ],
   "source": [
    "from sklearn.naive_bayes import MultinomialNB\n",
    "from sklearn.metrics import roc_curve, auc\n",
    "from sklearn.metrics import roc_curve\n",
    "from sklearn.metrics import roc_auc_score\n",
    "from matplotlib import pyplot\n",
    "\n",
    "train_auc = []\n",
    "cv_auc = []\n",
    "alpha = [0.0005, 0.005, 0.01, 0.1, 0.5, 1.0, 5.0, 10.0]\n",
    "for i in alpha:\n",
    "    model = MultinomialNB(alpha=i, fit_prior=False)\n",
    "    model.fit(X_train_review_bow, y_train)\n",
    "    # roc_auc_score(y_true, y_score) the 2nd parameter should be probability estimates of the positive class\n",
    "    # not the predicted outputs\n",
    "    y_train_pred =  model.predict_proba(X_train_review_bow)[:,1]\n",
    "    y_cv_pred =  model.predict_proba(X_cv_review_bow)[:,1]\n",
    "    \n",
    "    train_auc.append(roc_auc_score(y_train,y_train_pred))\n",
    "    cv_auc.append(roc_auc_score(y_cv, y_cv_pred))\n",
    "\n",
    "plt.plot(alpha, train_auc, label='Train AUC')\n",
    "plt.scatter(alpha, train_auc, label='Train AUC')\n",
    "plt.plot(alpha, cv_auc, label='CV AUC')\n",
    "plt.scatter(alpha, cv_auc, label='CV AUC')\n",
    "plt.legend()\n",
    "plt.xlabel(\"K: hyperparameter\")\n",
    "plt.ylabel(\"AUC\")\n",
    "plt.title(\"ERROR PLOTS\")\n",
    "plt.show()"
   ]
  },
  {
   "cell_type": "code",
   "execution_count": 41,
   "metadata": {},
   "outputs": [
    {
     "name": "stdout",
     "output_type": "stream",
     "text": [
      "AUC of Train Data: 0.94\n",
      "AUC of Test Data: 0.92\n"
     ]
    },
    {
     "data": {
      "image/png": "[encoded data removed]",
      "text/plain": [
       "<Figure size 432x288 with 1 Axes>"
      ]
     },
     "metadata": {},
     "output_type": "display_data"
    }
   ],
   "source": [
    "#Citation: plot roc auc curve\n",
    "#url: https://stackabuse.com/understanding-roc-curves-with-python/\n",
    "\n",
    "best_alpha = 1\n",
    "\n",
    "from sklearn.naive_bayes import MultinomialNB\n",
    "from sklearn.metrics import roc_curve, auc\n",
    "from sklearn.metrics import roc_curve\n",
    "from sklearn.metrics import roc_auc_score\n",
    "from matplotlib import pyplot\n",
    "\n",
    "model = MultinomialNB(alpha=best_alpha)\n",
    "model.fit(X_train_review_bow, y_train)\n",
    "\n",
    "def plot_roc_curve(test_fpr, test_tpr, train_fpr, train_tpr):  \n",
    "    plt.plot(train_fpr, train_tpr, color='red', label='ROC for train')\n",
    "    plt.plot(test_fpr, test_tpr, color='orange', label='ROC for test')\n",
    "    plt.plot([0, 1], [0, 1], color='darkblue', linestyle='--')\n",
    "    plt.xlabel('Hypterparameter: Alpha')\n",
    "    plt.ylabel('AUC')\n",
    "    plt.title('Receiver Operating Characteristic (ROC) Curve')\n",
    "    plt.legend()\n",
    "    plt.show()\n",
    "    \n",
    "y_test_pred = model.predict_proba(X_test_review_bow)  \n",
    "y_test_pred = y_test_pred[:, 1]\n",
    "\n",
    "y_train_pred = model.predict_proba(X_train_review_bow)  \n",
    "y_train_pred = y_train_pred[:, 1] \n",
    "\n",
    "auc_train = roc_auc_score(y_train, y_train_pred)  \n",
    "print('AUC of Train Data: %.2f' % auc_train)  \n",
    "\n",
    "auc_test = roc_auc_score(y_test, y_test_pred)  \n",
    "print('AUC of Test Data: %.2f' % auc_test)  \n",
    "\n",
    "train_fpr, train_tpr, train_thresholds = roc_curve(y_train, y_train_pred)\n",
    "test_fpr, test_tpr, test_thresholds = roc_curve(y_test, y_test_pred)  \n",
    "\n",
    "plot_roc_curve(test_fpr, test_tpr, train_fpr, train_tpr)"
   ]
  },
  {
   "cell_type": "code",
   "execution_count": 42,
   "metadata": {},
   "outputs": [],
   "source": [
    "# we are writing our own function for predict, with defined thresould\n",
    "# we will pick a threshold that will give the least fpr\n",
    "def predict(proba, threshould, fpr, tpr):\n",
    "    \n",
    "    t = threshould[np.argmax(tpr*(1-fpr))]\n",
    "    \n",
    "    # (tpr*(1-fpr)) will be maximum if your fpr is very low and tpr is very high\n",
    "    \n",
    "    print(\"the maximum value of tpr*(1-fpr)\", max(tpr*(1-fpr)), \"for threshold\", np.round(t,3))\n",
    "    predictions = []\n",
    "    for i in proba:\n",
    "        if i>=t:\n",
    "            predictions.append(1)\n",
    "        else:\n",
    "            predictions.append(0)\n",
    "    return predictions"
   ]
  },
  {
   "cell_type": "code",
   "execution_count": 43,
   "metadata": {},
   "outputs": [
    {
     "name": "stdout",
     "output_type": "stream",
     "text": [
      "Train confusion matrix\n",
      "the maximum value of tpr*(1-fpr) 0.25 for threshold 0.028\n"
     ]
    },
    {
     "data": {
      "image/png": "[encoded data removed]",
      "text/plain": [
       "<Figure size 432x288 with 2 Axes>"
      ]
     },
     "metadata": {},
     "output_type": "display_data"
    },
    {
     "name": "stdout",
     "output_type": "stream",
     "text": [
      "Test confusion matrix\n",
      "the maximum value of tpr*(1-fpr) 0.2499999994343463 for threshold 0.029\n"
     ]
    },
    {
     "data": {
      "image/png": "[encoded data removed]",
      "text/plain": [
       "<Figure size 432x288 with 2 Axes>"
      ]
     },
     "metadata": {},
     "output_type": "display_data"
    }
   ],
   "source": [
    "from sklearn.metrics import confusion_matrix\n",
    "\n",
    "print(\"Train confusion matrix\")\n",
    "cm_train = confusion_matrix(y_train, predict(y_train_pred, train_thresholds, train_fpr, train_fpr))\n",
    "\n",
    "class_names = ['negative','positive']\n",
    "sns.heatmap(cm_train, annot=True, fmt='d',cmap='viridis')\n",
    "plt.ylabel('Predicted label',size=18)\n",
    "plt.xlabel('True label',size=18)\n",
    "plt.title(\"Train Confusion Matrix\\n\",size=24)\n",
    "plt.show()\n",
    "\n",
    "print(\"Test confusion matrix\")\n",
    "cm_test = confusion_matrix(y_test, predict(y_test_pred, test_thresholds, test_fpr, test_fpr))\n",
    "\n",
    "class_names = ['negative','positive']\n",
    "sns.heatmap(cm_test, annot=True, fmt='d',cmap='viridis')\n",
    "plt.ylabel('Predicted label',size=18)\n",
    "plt.xlabel('True label',size=18)\n",
    "plt.title(\"Test Confusion Matrix\\n\",size=24)\n",
    "plt.show()"
   ]
  },
  {
   "cell_type": "markdown",
   "metadata": {},
   "source": [
    "## Top 20 features of positive and negative class for set 1"
   ]
  },
  {
   "cell_type": "code",
   "execution_count": 33,
   "metadata": {},
   "outputs": [
    {
     "name": "stdout",
     "output_type": "stream",
     "text": [
      "Top 20 Important Features and their log probabilities For Negative Class :\n",
      "\n",
      "\n",
      "not\t -->\t-3.278578  \n",
      "like\t -->\t-4.402319  \n",
      "would\t -->\t-4.667962  \n",
      "product\t -->\t-4.669552  \n",
      "taste\t -->\t-4.675483  \n",
      "one\t -->\t-4.841872  \n",
      "good\t -->\t-5.068839  \n",
      "flavor\t -->\t-5.133615  \n",
      "no\t -->\t-5.134882  \n",
      "coffee\t -->\t-5.171585  \n",
      "tea\t -->\t-5.354545  \n",
      "get\t -->\t-5.414987  \n",
      "even\t -->\t-5.419550  \n",
      "amazon\t -->\t-5.428497  \n",
      "buy\t -->\t-5.482133  \n",
      "much\t -->\t-5.487272  \n",
      "food\t -->\t-5.496068  \n",
      "really\t -->\t-5.569377  \n",
      "could\t -->\t-5.679222  \n",
      "tried\t -->\t-5.694000  \n",
      "\n",
      "\n",
      "Top 20 Important Features and their log probabilities For Positive Class :\n",
      "\n",
      "\n",
      "not\t -->\t-3.722389  \n",
      "like\t -->\t-4.561082  \n",
      "good\t -->\t-4.666585  \n",
      "great\t -->\t-4.718742  \n",
      "one\t -->\t-4.881752  \n",
      "tea\t -->\t-4.889972  \n",
      "taste\t -->\t-4.942957  \n",
      "flavor\t -->\t-5.064019  \n",
      "product\t -->\t-5.088867  \n",
      "love\t -->\t-5.089735  \n",
      "coffee\t -->\t-5.101401  \n",
      "would\t -->\t-5.149081  \n",
      "get\t -->\t-5.358230  \n",
      "no\t -->\t-5.372776  \n",
      "amazon\t -->\t-5.406597  \n",
      "best\t -->\t-5.422517  \n",
      "really\t -->\t-5.437070  \n",
      "use\t -->\t-5.460337  \n",
      "also\t -->\t-5.494750  \n",
      "food\t -->\t-5.503905  \n"
     ]
    }
   ],
   "source": [
    "# Now we can find log probabilities of different features for both the classes\n",
    "class_features = model.feature_log_prob_\n",
    "\n",
    "#  row_0 is for 'negative' class and row_1 is for 'positive' class\n",
    "negative_features = class_features[0]\n",
    "positive_features = class_features[1]\n",
    "\n",
    "# Getting all feature names\n",
    "feature_names = vectorizer.get_feature_names()\n",
    "\n",
    "# Sorting 'negative_features' and 'positive_features' in descending order using argsort() function\n",
    "sorted_negative_features = np.argsort(negative_features)[::-1]\n",
    "sorted_positive_features = np.argsort(positive_features)[::-1]\n",
    "\n",
    "print(\"Top 20 Important Features and their log probabilities For Negative Class :\\n\\n\")\n",
    "for i in list(sorted_negative_features[0:20]):\n",
    "    print(\"%s\\t -->\\t%f  \"%(feature_names[i],negative_features[i]))\n",
    "    \n",
    "print(\"\\n\\nTop 20 Important Features and their log probabilities For Positive Class :\\n\\n\")\n",
    "for i in list(sorted_positive_features[0:20]):\n",
    "    print(\"%s\\t -->\\t%f  \"%(feature_names[i],positive_features[i]))"
   ]
  },
  {
   "cell_type": "markdown",
   "metadata": {},
   "source": [
    "## Set 2: Review text, preprocessed one converted into vectors using (TFIDF)\n",
    "<a id='set2'></a>"
   ]
  },
  {
   "cell_type": "code",
   "execution_count": 44,
   "metadata": {},
   "outputs": [
    {
     "data": {
      "image/png": "[encoded data removed]",
      "text/plain": [
       "<Figure size 432x288 with 1 Axes>"
      ]
     },
     "metadata": {},
     "output_type": "display_data"
    }
   ],
   "source": [
    "from sklearn.naive_bayes import MultinomialNB\n",
    "from sklearn.metrics import roc_curve, auc\n",
    "from sklearn.metrics import roc_curve\n",
    "from sklearn.metrics import roc_auc_score\n",
    "from matplotlib import pyplot\n",
    "\n",
    "train_auc = []\n",
    "cv_auc = []\n",
    "alpha = [0.0005, 0.005, 0.01, 0.1, 0.5, 1.0, 5.0, 10.0]\n",
    "for i in alpha:\n",
    "    model2 = MultinomialNB(alpha=i, fit_prior=False)\n",
    "    model2.fit(X_train_review_tfidf, y_train)\n",
    "    \n",
    "    y_train_pred =  model2.predict_proba(X_train_review_tfidf)[:,1]\n",
    "    y_cv_pred =  model2.predict_proba(X_cv_review_tfidf)[:,1]\n",
    "    \n",
    "    train_auc.append(roc_auc_score(y_train,y_train_pred))\n",
    "    cv_auc.append(roc_auc_score(y_cv, y_cv_pred))\n",
    "\n",
    "plt.plot(alpha, train_auc, label='Train AUC')\n",
    "plt.scatter(alpha, train_auc, label='Train AUC')\n",
    "plt.plot(alpha, cv_auc, label='CV AUC')\n",
    "plt.scatter(alpha, cv_auc, label='CV AUC')\n",
    "plt.legend()\n",
    "plt.xlabel(\"K: hyperparameter\")\n",
    "plt.ylabel(\"AUC\")\n",
    "plt.title(\"ERROR PLOTS\")\n",
    "plt.show()"
   ]
  },
  {
   "cell_type": "code",
   "execution_count": 45,
   "metadata": {},
   "outputs": [
    {
     "name": "stdout",
     "output_type": "stream",
     "text": [
      "AUC of Train Data: 0.94\n",
      "AUC of Test Data: 0.93\n"
     ]
    },
    {
     "data": {
      "image/png": "[encoded data removed]",
      "text/plain": [
       "<Figure size 432x288 with 1 Axes>"
      ]
     },
     "metadata": {},
     "output_type": "display_data"
    }
   ],
   "source": [
    "#Citation: plot roc auc curve\n",
    "#url: https://stackabuse.com/understanding-roc-curves-with-python/\n",
    "\n",
    "best_alpha = 1.0\n",
    "\n",
    "from sklearn.naive_bayes import MultinomialNB\n",
    "from sklearn.metrics import roc_curve, auc\n",
    "from sklearn.metrics import roc_curve\n",
    "from sklearn.metrics import roc_auc_score\n",
    "from matplotlib import pyplot\n",
    "\n",
    "model2 = MultinomialNB(alpha=best_alpha)\n",
    "model2.fit(X_train_review_tfidf, y_train)\n",
    "\n",
    "def plot_roc_curve(test_fpr, test_tpr, train_fpr, train_tpr):  \n",
    "    plt.plot(train_fpr, train_tpr, color='red', label='ROC for train')\n",
    "    plt.plot(test_fpr, test_tpr, color='orange', label='ROC for test')\n",
    "    plt.plot([0, 1], [0, 1], color='darkblue', linestyle='--')\n",
    "    plt.xlabel('Hypterparameter: Alpha')\n",
    "    plt.ylabel('AUC')\n",
    "    plt.title('Receiver Operating Characteristic (ROC) Curve')\n",
    "    plt.legend()\n",
    "    plt.show()\n",
    "    \n",
    "y_test_pred = model.predict_proba(X_test_review_tfidf)  \n",
    "y_test_pred = y_test_pred[:, 1]\n",
    "\n",
    "y_train_pred = model.predict_proba(X_train_review_tfidf)  \n",
    "y_train_pred = y_train_pred[:, 1] \n",
    "\n",
    "auc_train = roc_auc_score(y_train, y_train_pred)  \n",
    "print('AUC of Train Data: %.2f' % auc_train)  \n",
    "\n",
    "auc_test = roc_auc_score(y_test, y_test_pred)  \n",
    "print('AUC of Test Data: %.2f' % auc_test)  \n",
    "\n",
    "train_fpr, train_tpr, train_thresholds = roc_curve(y_train, y_train_pred)\n",
    "test_fpr, test_tpr, test_thresholds = roc_curve(y_test, y_test_pred)  \n",
    "\n",
    "plot_roc_curve(test_fpr, test_tpr, train_fpr, train_tpr)"
   ]
  },
  {
   "cell_type": "code",
   "execution_count": 46,
   "metadata": {},
   "outputs": [],
   "source": [
    "# we are writing our own function for predict, with defined thresould\n",
    "# we will pick a threshold that will give the least fpr\n",
    "def predict(proba, threshould, fpr, tpr):\n",
    "    \n",
    "    t = threshould[np.argmax(tpr*(1-fpr))]\n",
    "    \n",
    "    # (tpr*(1-fpr)) will be maximum if your fpr is very low and tpr is very high\n",
    "    \n",
    "    print(\"the maximum value of tpr*(1-fpr)\", max(tpr*(1-fpr)), \"for threshold\", np.round(t,3))\n",
    "    predictions = []\n",
    "    for i in proba:\n",
    "        if i>=t:\n",
    "            predictions.append(1)\n",
    "        else:\n",
    "            predictions.append(0)\n",
    "    return predictions"
   ]
  },
  {
   "cell_type": "code",
   "execution_count": 47,
   "metadata": {},
   "outputs": [
    {
     "name": "stdout",
     "output_type": "stream",
     "text": [
      "Train confusion matrix\n",
      "the maximum value of tpr*(1-fpr) 0.25 for threshold 0.668\n"
     ]
    },
    {
     "data": {
      "image/png": "[encoded data removed]",
      "text/plain": [
       "<Figure size 432x288 with 2 Axes>"
      ]
     },
     "metadata": {},
     "output_type": "display_data"
    },
    {
     "name": "stdout",
     "output_type": "stream",
     "text": [
      "Test confusion matrix\n",
      "the maximum value of tpr*(1-fpr) 0.24999999943434634 for threshold 0.683\n"
     ]
    },
    {
     "data": {
      "image/png": "[encoded data removed]",
      "text/plain": [
       "<Figure size 432x288 with 2 Axes>"
      ]
     },
     "metadata": {},
     "output_type": "display_data"
    }
   ],
   "source": [
    "from sklearn.metrics import confusion_matrix\n",
    "\n",
    "print(\"Train confusion matrix\")\n",
    "cm_train = confusion_matrix(y_train, predict(y_train_pred, train_thresholds, train_fpr, train_fpr))\n",
    "\n",
    "class_names = ['negative','positive']\n",
    "sns.heatmap(cm_train, annot=True, fmt='d',cmap='viridis')\n",
    "plt.ylabel('Predicted label',size=18)\n",
    "plt.xlabel('True label',size=18)\n",
    "plt.title(\"Train Confusion Matrix\\n\",size=24)\n",
    "plt.show()\n",
    "\n",
    "print(\"Test confusion matrix\")\n",
    "cm_test = confusion_matrix(y_test, predict(y_test_pred, test_thresholds, test_fpr, test_fpr))\n",
    "\n",
    "class_names = ['negative','positive']\n",
    "sns.heatmap(cm_test, annot=True, fmt='d',cmap='viridis')\n",
    "plt.ylabel('Predicted label',size=18)\n",
    "plt.xlabel('True label',size=18)\n",
    "plt.title(\"Test Confusion Matrix\\n\",size=24)\n",
    "plt.show()"
   ]
  },
  {
   "cell_type": "markdown",
   "metadata": {},
   "source": [
    "## Top 20 features of positive and negative class for set 2"
   ]
  },
  {
   "cell_type": "code",
   "execution_count": 39,
   "metadata": {},
   "outputs": [
    {
     "name": "stdout",
     "output_type": "stream",
     "text": [
      "Top 20 Important Features and their log probabilities For Negative Class :\n",
      "\n",
      "\n",
      "not\t -->\t-4.406294  \n",
      "like\t -->\t-5.208417  \n",
      "taste\t -->\t-5.314473  \n",
      "product\t -->\t-5.317737  \n",
      "would\t -->\t-5.342039  \n",
      "coffee\t -->\t-5.599196  \n",
      "one\t -->\t-5.610665  \n",
      "flavor\t -->\t-5.741324  \n",
      "no\t -->\t-5.764979  \n",
      "good\t -->\t-5.820462  \n",
      "tea\t -->\t-5.851165  \n",
      "buy\t -->\t-5.853645  \n",
      "even\t -->\t-5.960530  \n",
      "get\t -->\t-6.017157  \n",
      "amazon\t -->\t-6.023632  \n",
      "much\t -->\t-6.027646  \n",
      "bad\t -->\t-6.031024  \n",
      "box\t -->\t-6.035116  \n",
      "bought\t -->\t-6.059898  \n",
      "really\t -->\t-6.114200  \n",
      "\n",
      "\n",
      "Top 20 Important Features and their log probabilities For Positive Class :\n",
      "\n",
      "\n",
      "not\t -->\t-4.837558  \n",
      "great\t -->\t-5.148734  \n",
      "good\t -->\t-5.230830  \n",
      "tea\t -->\t-5.270419  \n",
      "like\t -->\t-5.316634  \n",
      "coffee\t -->\t-5.397483  \n",
      "love\t -->\t-5.411582  \n",
      "product\t -->\t-5.506781  \n",
      "taste\t -->\t-5.523952  \n",
      "one\t -->\t-5.556670  \n",
      "flavor\t -->\t-5.573111  \n",
      "best\t -->\t-5.684900  \n",
      "amazon\t -->\t-5.782825  \n",
      "would\t -->\t-5.790261  \n",
      "find\t -->\t-5.819809  \n",
      "price\t -->\t-5.836763  \n",
      "really\t -->\t-5.837375  \n",
      "get\t -->\t-5.860471  \n",
      "use\t -->\t-5.888301  \n",
      "no\t -->\t-5.920316  \n"
     ]
    }
   ],
   "source": [
    "# Now we can find log probabilities of different features for both the classes\n",
    "class_features = model2.feature_log_prob_\n",
    "\n",
    "#  row_0 is for 'negative' class and row_1 is for 'positive' class\n",
    "negative_features = class_features[0]\n",
    "positive_features = class_features[1]\n",
    "\n",
    "# Getting all feature names\n",
    "feature_names = vectorizer_review_tfidf.get_feature_names()\n",
    "\n",
    "# Sorting 'negative_features' and 'positive_features' in descending order using argsort() function\n",
    "sorted_negative_features = np.argsort(negative_features)[::-1]\n",
    "sorted_positive_features = np.argsort(positive_features)[::-1]\n",
    "\n",
    "print(\"Top 20 Important Features and their log probabilities For Negative Class :\\n\\n\")\n",
    "for i in list(sorted_negative_features[0:20]):\n",
    "    print(\"%s\\t -->\\t%f  \"%(feature_names[i],negative_features[i]))\n",
    "    \n",
    "print(\"\\n\\nTop 20 Important Features and their log probabilities For Positive Class :\\n\\n\")\n",
    "for i in list(sorted_positive_features[0:20]):\n",
    "    print(\"%s\\t -->\\t%f  \"%(feature_names[i],positive_features[i]))"
   ]
  },
  {
   "cell_type": "markdown",
   "metadata": {},
   "source": [
    "# 6. Conclusion\n",
    "<a id='conc'> </a>"
   ]
  },
  {
   "cell_type": "code",
   "execution_count": 62,
   "metadata": {},
   "outputs": [
    {
     "name": "stdout",
     "output_type": "stream",
     "text": [
      "+-------+--------------+-------------------------+------------------------------+------------------+\n",
      "|  Set  |  Vectorizer  |          Model          | Best Hyper-parameter (Alpha) | AUC of Test Data |\n",
      "+-------+--------------+-------------------------+------------------------------+------------------+\n",
      "| Set 1 | Bag Of Words | Multinomial Naive Bayes |             1.0              |       0.92       |\n",
      "| Set 2 |    TF-IDF    | Multinomial Naive Bayes |             1.0              |       0.93       |\n",
      "+-------+--------------+-------------------------+------------------------------+------------------+\n"
     ]
    }
   ],
   "source": [
    "from prettytable import PrettyTable\n",
    "    \n",
    "x = PrettyTable()\n",
    "\n",
    "x.field_names = [\"Set\", \"Vectorizer\", \"Model\", \"Best Hyper-parameter (Alpha)\" , \"AUC of Test Data\"]\n",
    "\n",
    "x.add_row([\"Set 1\", \"Bag Of Words\", \"Multinomial Naive Bayes\", 1.0, 0.92])\n",
    "x.add_row([\"Set 2\", \"TF-IDF\", \"Multinomial Naive Bayes\", 1.0, 0.93])\n",
    "\n",
    "print(x)"
   ]
  }
 ],
 "metadata": {
  "kernelspec": {
   "display_name": "Python 3",
   "language": "python",
   "name": "python3"
  },
  "language_info": {
   "codemirror_mode": {
    "name": "ipython",
    "version": 3
   },
   "file_extension": ".py",
   "mimetype": "text/x-python",
   "name": "python",
   "nbconvert_exporter": "python",
   "pygments_lexer": "ipython3",
   "version": "3.6.5"
  }
 },
 "nbformat": 4,
 "nbformat_minor": 2
}
